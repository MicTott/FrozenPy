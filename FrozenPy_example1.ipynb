{
 "cells": [
  {
   "cell_type": "markdown",
   "metadata": {},
   "source": [
    "# FrozenPy example script"
   ]
  },
  {
   "cell_type": "markdown",
   "metadata": {},
   "source": [
    "## Import necessary packages"
   ]
  },
  {
   "cell_type": "code",
   "execution_count": 17,
   "metadata": {},
   "outputs": [],
   "source": [
    "# Import essential modules\n",
    "import os                             # access directories\n",
    "from IPython.display import display   # display variables\n",
    "import numpy as np                    # arrays\n",
    "import pandas as pd                   # dataframes\n",
    "import matplotlib.pyplot as plt       # basic plotting\n",
    "import seaborn as sns                 # statistical plotting\n",
    "import pingouin as pg                 # stats\n",
    "\n",
    "from FrozenPy import *                # freezing analysis\n",
    "path = '/Users/home/Documents/Jupyter/FrozenPy'\n",
    "os.chdir(path)\n",
    "\n",
    "# Plot formatting\n",
    "%matplotlib inline                    \n",
    "sns.set(style=\"ticks\", color_codes=True) "
   ]
  },
  {
   "cell_type": "markdown",
   "metadata": {},
   "source": [
    "## 1. Load data"
   ]
  },
  {
   "cell_type": "code",
   "execution_count": 2,
   "metadata": {},
   "outputs": [
    {
     "name": "stdout",
     "output_type": "stream",
     "text": [
      "Metadata from CRH_IED.metadata.csv successfully loaded\n",
      "20200323 - CRH IED - Cond - Sq 1.raw.csv already exists. Delete to rewrite file.\n",
      "20200323 - CRH IED - Cond - Sq 2.raw.csv already exists. Delete to rewrite file.\n",
      "20200323 - CRH IED - Cond - Sq 3.raw.csv already exists. Delete to rewrite file.\n",
      "Done!\n",
      "Dropped \"DELETE\" columns in 20200323 - CRH IED - Cond - Sq 1.raw.csv\n",
      "Dropped \"DELETE\" columns in 20200323 - CRH IED - Cond - Sq 2.raw.csv\n",
      "Dropped \"DELETE\" columns in 20200323 - CRH IED - Cond - Sq 3.raw.csv\n"
     ]
    }
   ],
   "source": [
    "# load metadata\n",
    "metadata_dir = '/Volumes/labshare/Michael Totty/Experiments/CRH IED/1. CeA CRH hM4D pilot/Data'\n",
    "Metadata_df = read_metadata(metadata_dir, sep=',')\n",
    "\n",
    "\n",
    "# make new .raw.csv from .out files\n",
    "Cond_dir = '/Volumes/labshare/Michael Totty/Experiments/CRH IED/1. CeA CRH hM4D pilot/Data/0. FrozenPy test'\n",
    "read_out(Cond_dir)\n",
    "\n",
    "# load data from .raw.csv\n",
    "os.chdir(Cond_dir)\n",
    "Cond_S1 = read_rawcsv('20200323 - CRH IED - Cond - Sq 1.raw.csv')\n",
    "Cond_S2 = read_rawcsv('20200323 - CRH IED - Cond - Sq 2.raw.csv')\n",
    "Cond_S3 = read_rawcsv('20200323 - CRH IED - Cond - Sq 3.raw.csv')"
   ]
  },
  {
   "cell_type": "markdown",
   "metadata": {},
   "source": [
    "## 2. Detect freezing from threshold"
   ]
  },
  {
   "cell_type": "code",
   "execution_count": 6,
   "metadata": {},
   "outputs": [],
   "source": [
    "# Freezing to Threshold\n",
    "Cond_Sq1_df = detect_freezing(Cond_S1)\n",
    "Cond_Sq2_df = detect_freezing(Cond_S2)\n",
    "Cond_Sq3_df = detect_freezing(Cond_S3)\n",
    "\n",
    "# Concatenate all squad dataframes\n",
    "Cond_df = pd.concat([Cond_Sq1_df, Cond_Sq2_df, Cond_Sq3_df], axis=1)"
   ]
  },
  {
   "cell_type": "markdown",
   "metadata": {},
   "source": [
    "## 3. Slice data "
   ]
  },
  {
   "cell_type": "code",
   "execution_count": 9,
   "metadata": {},
   "outputs": [],
   "source": [
    "# slice data\n",
    "BL_df, Trials_df = get_averagedslices(df=Cond_df, BL=180, CS=10, US=2, Trials=5, \n",
    "                                      ISI=58, fs=5, Behav='Freezing')\n",
    "\n"
   ]
  },
  {
   "cell_type": "markdown",
   "metadata": {},
   "source": [
    "## 4. Merge metadata and plot"
   ]
  },
  {
   "cell_type": "code",
   "execution_count": 22,
   "metadata": {},
   "outputs": [],
   "source": [
    "# merge metadata and data\n",
    "BL_md_df = pd.merge(Metadata_df, BL_df, on='ID', copy='True')\n",
    "Trials_md_df = pd.merge(Metadata_df, Trials_df, on='ID', copy='True')\n",
    "\n",
    "Trials_md_df.to_csv('Trials_test_jamovi.csv', index=False)"
   ]
  },
  {
   "cell_type": "code",
   "execution_count": 15,
   "metadata": {},
   "outputs": [
    {
     "data": {
      "text/plain": [
       "Text(0, 0.5, '% Freezing')"
      ]
     },
     "execution_count": 15,
     "metadata": {},
     "output_type": "execute_result"
    },
    {
     "data": {
      "image/png": "[encoded data removed]",
      "text/plain": [
       "<Figure size 432x288 with 1 Axes>"
      ]
     },
     "metadata": {},
     "output_type": "display_data"
    },
    {
     "data": {
      "image/png": "[encoded data removed]",
      "text/plain": [
       "<Figure size 432x288 with 1 Axes>"
      ]
     },
     "metadata": {},
     "output_type": "display_data"
    }
   ],
   "source": [
    "# baseline\n",
    "plt.figure()\n",
    "sns.barplot(data=BL_md_df, x='Genotype', y='BL', ci=68, capsize=.1)\n",
    "plt.ylim(0, 100)\n",
    "plt.ylabel('% Freezing')\n",
    "\n",
    "\n",
    "# trials\n",
    "plt.figure()\n",
    "sns.pointplot(data=Trials_md_df,\n",
    "                x='Trial', y='CS', hue='Genotype',\n",
    "                scale=1.5, ci=68, capsize=.1)\n",
    "plt.ylim(0, 100)\n",
    "plt.ylabel('% Freezing')"
   ]
  },
  {
   "cell_type": "markdown",
   "metadata": {},
   "source": [
    "## 5. Stats"
   ]
  },
  {
   "cell_type": "code",
   "execution_count": 23,
   "metadata": {},
   "outputs": [
    {
     "name": "stdout",
     "output_type": "stream",
     "text": [
      "\n",
      "=============\n",
      "ANOVA SUMMARY\n",
      "=============\n",
      "\n",
      "Source              SS    DF1    DF2        MS       F    p-unc    np2  eps\n",
      "-----------  ---------  -----  -----  --------  ------  -------  -----  -----\n",
      "Genotype       977.455      1     19   977.455   0.443    0.514  0.023  -\n",
      "Trial        32924.571      4     76  8231.143  13.329    0.000  0.412  0.821\n",
      "Interaction   1570.919      4     76   392.730   0.636    0.638  0.032  -\n",
      "\n"
     ]
    }
   ],
   "source": [
    "# Compute a two-way mixed-design ANOVA\n",
    "aov = pg.mixed_anova(data=Trials_md_df, dv='CS', within='Trial', between='Genotype', subject='ID')\n",
    "pg.print_table(aov)"
   ]
  },
  {
   "cell_type": "markdown",
   "metadata": {},
   "source": [
    "## 6. Convert to wide format for Statview"
   ]
  },
  {
   "cell_type": "code",
   "execution_count": 24,
   "metadata": {},
   "outputs": [
    {
     "data": {
      "text/html": [
       "<div>\n",
       "<style scoped>\n",
       "    .dataframe tbody tr th:only-of-type {\n",
       "        vertical-align: middle;\n",
       "    }\n",
       "\n",
       "    .dataframe tbody tr th {\n",
       "        vertical-align: top;\n",
       "    }\n",
       "\n",
       "    .dataframe thead th {\n",
       "        text-align: right;\n",
       "    }\n",
       "</style>\n",
       "<table border=\"1\" class=\"dataframe\">\n",
       "  <thead>\n",
       "    <tr style=\"text-align: right;\">\n",
       "      <th></th>\n",
       "      <th>ID</th>\n",
       "      <th>Genotype</th>\n",
       "      <th>Sex</th>\n",
       "      <th>Trial</th>\n",
       "      <th>CS</th>\n",
       "      <th>US</th>\n",
       "      <th>ISI</th>\n",
       "    </tr>\n",
       "  </thead>\n",
       "  <tbody>\n",
       "    <tr>\n",
       "      <th>0</th>\n",
       "      <td>CRH1</td>\n",
       "      <td>Cre+</td>\n",
       "      <td>Male</td>\n",
       "      <td>1</td>\n",
       "      <td>0.0</td>\n",
       "      <td>0.0</td>\n",
       "      <td>0.000000</td>\n",
       "    </tr>\n",
       "    <tr>\n",
       "      <th>1</th>\n",
       "      <td>CRH1</td>\n",
       "      <td>Cre+</td>\n",
       "      <td>Male</td>\n",
       "      <td>2</td>\n",
       "      <td>30.0</td>\n",
       "      <td>10.0</td>\n",
       "      <td>2.413793</td>\n",
       "    </tr>\n",
       "    <tr>\n",
       "      <th>2</th>\n",
       "      <td>CRH1</td>\n",
       "      <td>Cre+</td>\n",
       "      <td>Male</td>\n",
       "      <td>3</td>\n",
       "      <td>20.0</td>\n",
       "      <td>0.0</td>\n",
       "      <td>10.344828</td>\n",
       "    </tr>\n",
       "    <tr>\n",
       "      <th>3</th>\n",
       "      <td>CRH1</td>\n",
       "      <td>Cre+</td>\n",
       "      <td>Male</td>\n",
       "      <td>4</td>\n",
       "      <td>12.0</td>\n",
       "      <td>50.0</td>\n",
       "      <td>15.517241</td>\n",
       "    </tr>\n",
       "    <tr>\n",
       "      <th>4</th>\n",
       "      <td>CRH1</td>\n",
       "      <td>Cre+</td>\n",
       "      <td>Male</td>\n",
       "      <td>5</td>\n",
       "      <td>80.0</td>\n",
       "      <td>40.0</td>\n",
       "      <td>26.206897</td>\n",
       "    </tr>\n",
       "  </tbody>\n",
       "</table>\n",
       "</div>"
      ],
      "text/plain": [
       "     ID Genotype   Sex  Trial    CS    US        ISI\n",
       "0  CRH1     Cre+  Male      1   0.0   0.0   0.000000\n",
       "1  CRH1     Cre+  Male      2  30.0  10.0   2.413793\n",
       "2  CRH1     Cre+  Male      3  20.0   0.0  10.344828\n",
       "3  CRH1     Cre+  Male      4  12.0  50.0  15.517241\n",
       "4  CRH1     Cre+  Male      5  80.0  40.0  26.206897"
      ]
     },
     "execution_count": 24,
     "metadata": {},
     "output_type": "execute_result"
    }
   ],
   "source": [
    "# Long\n",
    "Trials_md_df.head()"
   ]
  },
  {
   "cell_type": "code",
   "execution_count": 26,
   "metadata": {},
   "outputs": [
    {
     "data": {
      "text/html": [
       "<div>\n",
       "<style scoped>\n",
       "    .dataframe tbody tr th:only-of-type {\n",
       "        vertical-align: middle;\n",
       "    }\n",
       "\n",
       "    .dataframe tbody tr th {\n",
       "        vertical-align: top;\n",
       "    }\n",
       "\n",
       "    .dataframe thead tr th {\n",
       "        text-align: left;\n",
       "    }\n",
       "\n",
       "    .dataframe thead tr:last-of-type th {\n",
       "        text-align: right;\n",
       "    }\n",
       "</style>\n",
       "<table border=\"1\" class=\"dataframe\">\n",
       "  <thead>\n",
       "    <tr>\n",
       "      <th></th>\n",
       "      <th></th>\n",
       "      <th></th>\n",
       "      <th colspan=\"5\" halign=\"left\">CS</th>\n",
       "      <th colspan=\"5\" halign=\"left\">ISI</th>\n",
       "      <th colspan=\"5\" halign=\"left\">US</th>\n",
       "    </tr>\n",
       "    <tr>\n",
       "      <th></th>\n",
       "      <th></th>\n",
       "      <th>Trial</th>\n",
       "      <th>1</th>\n",
       "      <th>2</th>\n",
       "      <th>3</th>\n",
       "      <th>4</th>\n",
       "      <th>5</th>\n",
       "      <th>1</th>\n",
       "      <th>2</th>\n",
       "      <th>3</th>\n",
       "      <th>4</th>\n",
       "      <th>5</th>\n",
       "      <th>1</th>\n",
       "      <th>2</th>\n",
       "      <th>3</th>\n",
       "      <th>4</th>\n",
       "      <th>5</th>\n",
       "    </tr>\n",
       "    <tr>\n",
       "      <th>ID</th>\n",
       "      <th>Sex</th>\n",
       "      <th>Genotype</th>\n",
       "      <th></th>\n",
       "      <th></th>\n",
       "      <th></th>\n",
       "      <th></th>\n",
       "      <th></th>\n",
       "      <th></th>\n",
       "      <th></th>\n",
       "      <th></th>\n",
       "      <th></th>\n",
       "      <th></th>\n",
       "      <th></th>\n",
       "      <th></th>\n",
       "      <th></th>\n",
       "      <th></th>\n",
       "      <th></th>\n",
       "    </tr>\n",
       "  </thead>\n",
       "  <tbody>\n",
       "    <tr>\n",
       "      <th>CRH1</th>\n",
       "      <th>Male</th>\n",
       "      <th>Cre+</th>\n",
       "      <td>0.0</td>\n",
       "      <td>30.0</td>\n",
       "      <td>20.0</td>\n",
       "      <td>12.0</td>\n",
       "      <td>80.0</td>\n",
       "      <td>0.000000</td>\n",
       "      <td>2.413793</td>\n",
       "      <td>10.344828</td>\n",
       "      <td>15.517241</td>\n",
       "      <td>26.206897</td>\n",
       "      <td>0.0</td>\n",
       "      <td>10.0</td>\n",
       "      <td>0.0</td>\n",
       "      <td>50.0</td>\n",
       "      <td>40.0</td>\n",
       "    </tr>\n",
       "    <tr>\n",
       "      <th>CRH10</th>\n",
       "      <th>Female</th>\n",
       "      <th>Cre+</th>\n",
       "      <td>0.0</td>\n",
       "      <td>44.0</td>\n",
       "      <td>50.0</td>\n",
       "      <td>10.0</td>\n",
       "      <td>10.0</td>\n",
       "      <td>12.758621</td>\n",
       "      <td>14.827586</td>\n",
       "      <td>8.620690</td>\n",
       "      <td>1.724138</td>\n",
       "      <td>20.689655</td>\n",
       "      <td>0.0</td>\n",
       "      <td>0.0</td>\n",
       "      <td>20.0</td>\n",
       "      <td>0.0</td>\n",
       "      <td>0.0</td>\n",
       "    </tr>\n",
       "    <tr>\n",
       "      <th>CRH11</th>\n",
       "      <th>Female</th>\n",
       "      <th>Cre+</th>\n",
       "      <td>0.0</td>\n",
       "      <td>0.0</td>\n",
       "      <td>0.0</td>\n",
       "      <td>0.0</td>\n",
       "      <td>0.0</td>\n",
       "      <td>0.000000</td>\n",
       "      <td>0.000000</td>\n",
       "      <td>0.000000</td>\n",
       "      <td>0.000000</td>\n",
       "      <td>4.827586</td>\n",
       "      <td>0.0</td>\n",
       "      <td>0.0</td>\n",
       "      <td>0.0</td>\n",
       "      <td>0.0</td>\n",
       "      <td>0.0</td>\n",
       "    </tr>\n",
       "    <tr>\n",
       "      <th>CRH12</th>\n",
       "      <th>Male</th>\n",
       "      <th>Cre-</th>\n",
       "      <td>0.0</td>\n",
       "      <td>0.0</td>\n",
       "      <td>10.0</td>\n",
       "      <td>38.0</td>\n",
       "      <td>0.0</td>\n",
       "      <td>5.517241</td>\n",
       "      <td>15.172414</td>\n",
       "      <td>8.620690</td>\n",
       "      <td>25.517241</td>\n",
       "      <td>38.965517</td>\n",
       "      <td>0.0</td>\n",
       "      <td>0.0</td>\n",
       "      <td>0.0</td>\n",
       "      <td>0.0</td>\n",
       "      <td>70.0</td>\n",
       "    </tr>\n",
       "    <tr>\n",
       "      <th>CRH13</th>\n",
       "      <th>Male</th>\n",
       "      <th>Cre-</th>\n",
       "      <td>0.0</td>\n",
       "      <td>14.0</td>\n",
       "      <td>46.0</td>\n",
       "      <td>80.0</td>\n",
       "      <td>64.0</td>\n",
       "      <td>4.137931</td>\n",
       "      <td>40.344828</td>\n",
       "      <td>33.103448</td>\n",
       "      <td>43.448276</td>\n",
       "      <td>49.310345</td>\n",
       "      <td>0.0</td>\n",
       "      <td>10.0</td>\n",
       "      <td>0.0</td>\n",
       "      <td>30.0</td>\n",
       "      <td>30.0</td>\n",
       "    </tr>\n",
       "  </tbody>\n",
       "</table>\n",
       "</div>"
      ],
      "text/plain": [
       "                        CS                                ISI             \\\n",
       "Trial                    1     2     3     4     5          1          2   \n",
       "ID    Sex    Genotype                                                      \n",
       "CRH1  Male   Cre+      0.0  30.0  20.0  12.0  80.0   0.000000   2.413793   \n",
       "CRH10 Female Cre+      0.0  44.0  50.0  10.0  10.0  12.758621  14.827586   \n",
       "CRH11 Female Cre+      0.0   0.0   0.0   0.0   0.0   0.000000   0.000000   \n",
       "CRH12 Male   Cre-      0.0   0.0  10.0  38.0   0.0   5.517241  15.172414   \n",
       "CRH13 Male   Cre-      0.0  14.0  46.0  80.0  64.0   4.137931  40.344828   \n",
       "\n",
       "                                                         US                    \\\n",
       "Trial                          3          4          5    1     2     3     4   \n",
       "ID    Sex    Genotype                                                           \n",
       "CRH1  Male   Cre+      10.344828  15.517241  26.206897  0.0  10.0   0.0  50.0   \n",
       "CRH10 Female Cre+       8.620690   1.724138  20.689655  0.0   0.0  20.0   0.0   \n",
       "CRH11 Female Cre+       0.000000   0.000000   4.827586  0.0   0.0   0.0   0.0   \n",
       "CRH12 Male   Cre-       8.620690  25.517241  38.965517  0.0   0.0   0.0   0.0   \n",
       "CRH13 Male   Cre-      33.103448  43.448276  49.310345  0.0  10.0   0.0  30.0   \n",
       "\n",
       "                             \n",
       "Trial                     5  \n",
       "ID    Sex    Genotype        \n",
       "CRH1  Male   Cre+      40.0  \n",
       "CRH10 Female Cre+       0.0  \n",
       "CRH11 Female Cre+       0.0  \n",
       "CRH12 Male   Cre-      70.0  \n",
       "CRH13 Male   Cre-      30.0  "
      ]
     },
     "execution_count": 26,
     "metadata": {},
     "output_type": "execute_result"
    }
   ],
   "source": [
    "# Pivot long to wide\n",
    "Trials_wide = Trials_md_df.pivot_table(index=['ID', 'Sex', 'Genotype'], \n",
    "                                  columns='Trial', values=['CS', 'US', 'ISI'])\n",
    "#Wide\n",
    "Trials_wide.head()"
   ]
  }
 ],
 "metadata": {
  "kernelspec": {
   "display_name": "Python 3",
   "language": "python",
   "name": "python3"
  },
  "language_info": {
   "codemirror_mode": {
    "name": "ipython",
    "version": 3
   },
   "file_extension": ".py",
   "mimetype": "text/x-python",
   "name": "python",
   "nbconvert_exporter": "python",
   "pygments_lexer": "ipython3",
   "version": "3.7.7"
  }
 },
 "nbformat": 4,
 "nbformat_minor": 4
}
